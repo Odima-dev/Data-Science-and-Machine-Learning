{
  "nbformat": 4,
  "nbformat_minor": 0,
  "metadata": {
    "colab": {
      "provenance": [],
      "authorship_tag": "ABX9TyOK87VNJVCFjo08cQKrfwdS",
      "include_colab_link": true
    },
    "kernelspec": {
      "name": "python3",
      "display_name": "Python 3"
    },
    "language_info": {
      "name": "python"
    }
  },
  "cells": [
    {
      "cell_type": "markdown",
      "metadata": {
        "id": "view-in-github",
        "colab_type": "text"
      },
      "source": [
        "<a href=\"https://colab.research.google.com/github/Odima-dev/Data-Science-and-Machine-Learning/blob/main/MountFujipaperfoldingproblem.ipynb\" target=\"_parent\"><img src=\"https://colab.research.google.com/assets/colab-badge.svg\" alt=\"Open In Colab\"/></a>"
      ]
    },
    {
      "cell_type": "code",
      "execution_count": 13,
      "metadata": {
        "colab": {
          "base_uri": "https://localhost:8080/"
        },
        "id": "P5OiTWwc7-MR",
        "outputId": "13c93829-2edd-4497-8607-dc82a4268c45"
      },
      "outputs": [
        {
          "output_type": "stream",
          "name": "stdout",
          "text": [
            "Folds required to exceed fuji are: 26\n",
            "Folds required to exceed proxima centauri are: 69\n",
            "paper length required to reach the moon: 3.240919444170781e+21\n",
            "paper length required to reach the fuji: 188646348487.24017\n",
            "paper length required to reach the proxima centauri: 1.4595803601100348e+37\n"
          ]
        }
      ],
      "source": [
        "#Problem 1\n",
        "def folds_to_exceed_fuji(fuji_height, initial_height=0.00008):\n",
        "  \"\"\"initial_height - initial paper thickness (m)\n",
        "  n - minimum number of folds\n",
        "  \"\"\"\n",
        "  thickness = initial_height\n",
        "  n = 0\n",
        "  while thickness < fuji_height:\n",
        "    thickness *=2\n",
        "    n +=1\n",
        "\n",
        "  return n\n",
        "\n",
        "#calculating minimum folds to exceed 3776m\n",
        "fuji_height = 3776\n",
        "folds_needed_fuji= folds_to_exceed_fuji(fuji_height)\n",
        "print(\"Folds required to exceed fuji are: {}\" .format(folds_needed_fuji))\n",
        "\n",
        "#Problem 2\n",
        "def folds_to_exceed_height(height, initial_height=0.00008):\n",
        "  thickness = initial_height\n",
        "  n = 0\n",
        "\n",
        "  while thickness < height:\n",
        "    thickness *= 2\n",
        "    n += 1\n",
        "\n",
        "  return n\n",
        "\n",
        "#calculating minimum folds to exceed Proxima Centuri\n",
        "proxima_centauri_height = 4.0175*10**16\n",
        "folds_needed_proxima = folds_to_exceed_height(proxima_centauri_height)\n",
        "print(\"Folds required to exceed proxima centauri are: {}\" .format(folds_needed_proxima))\n",
        "\n",
        "#Problem 3\n",
        "import math\n",
        "def paper_length_needed(n, initial_thickness=0.00008):\n",
        "  length = (math.pi * initial_thickness/6) * (2**n + 4) * (2**n - 1)\n",
        "  return length\n",
        "\n",
        "#Calculating required lengths in meters\n",
        "moon_distance = 384400000\n",
        "folds_needed_moon = folds_to_exceed_height(moon_distance)\n",
        "length_needed_moon = paper_length_needed(folds_needed_moon)\n",
        "length_needed_fuji = paper_length_needed(folds_needed_fuji)\n",
        "length_needed_proxima = paper_length_needed(folds_needed_proxima)\n",
        "\n",
        "print(\"paper length required to reach the moon: {}\" .format(length_needed_moon))\n",
        "print(\"paper length required to reach the fuji: {}\" .format(length_needed_fuji))\n",
        "print(\"paper length required to reach the proxima centauri: {}\" .format(length_needed_proxima))\n",
        "\n"
      ]
    }
  ]
}