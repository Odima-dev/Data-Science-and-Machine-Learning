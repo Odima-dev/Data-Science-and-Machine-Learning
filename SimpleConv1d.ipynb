{
  "cells": [
    {
      "cell_type": "markdown",
      "metadata": {
        "id": "view-in-github",
        "colab_type": "text"
      },
      "source": [
        "<a href=\"https://colab.research.google.com/github/Odima-dev/Data-Science-and-Machine-Learning/blob/main/SimpleConv1d.ipynb\" target=\"_parent\"><img src=\"https://colab.research.google.com/assets/colab-badge.svg\" alt=\"Open In Colab\"/></a>"
      ]
    },
    {
      "cell_type": "code",
      "source": [
        "# Problem 1: Creating a one-dimensional convolutional layer class that limits the number of channels to one\n",
        "import numpy as np\n",
        "\n",
        "class SimpleConv1d:\n",
        "    def __init__(self, filter_size):\n",
        "        self.filter_size = filter_size\n",
        "        # Xavier Initialization\n",
        "        scale = np.sqrt(1.0 / filter_size)\n",
        "        self.W = np.random.randn(filter_size) * scale\n",
        "        self.b = np.zeros(1)\n",
        "        self.dW = None\n",
        "        self.db = None\n",
        "        self.learning_rate = 0.01\n",
        "\n",
        "    def forward(self, x):\n",
        "        self.x = x\n",
        "        self.output_size = len(x) - self.filter_size + 1\n",
        "        self.a = np.zeros(self.output_size)\n",
        "        for i in range(self.output_size):\n",
        "            self.a[i] = np.sum(x[i:i+self.filter_size] * self.W) + self.b\n",
        "        return self.a\n",
        "\n",
        "    def backward(self, delta_a):\n",
        "        self.dW = np.zeros_like(self.W)\n",
        "        self.db = np.sum(delta_a)\n",
        "        self.dx = np.zeros_like(self.x)\n",
        "\n",
        "        for s in range(self.filter_size):\n",
        "            for i in range(self.output_size):\n",
        "                self.dW[s] += delta_a[i] * self.x[i + s]\n",
        "\n",
        "        for j in range(len(self.x)):\n",
        "            for s in range(self.filter_size):\n",
        "                if 0 <= j - s < self.output_size:\n",
        "                    self.dx[j] += delta_a[j - s] * self.W[s]\n",
        "        return self.dx\n",
        "\n",
        "    def update(self):\n",
        "        self.W -= self.learning_rate * self.dW\n",
        "        self.b -= self.learning_rate * self.db"
      ],
      "metadata": {
        "id": "8x4t8_cEowbk"
      },
      "execution_count": 1,
      "outputs": []
    },
    {
      "cell_type": "code",
      "source": [
        "# Problem 2: Output size calculation after one-dimensional convolution\n",
        "def calculate_conv1d_output_size(n_input, padding, filter_size, stride):\n",
        "    return (n_input + 2 * padding - filter_size) // stride + 1"
      ],
      "metadata": {
        "id": "Y48ZmMiLpAiU"
      },
      "execution_count": 3,
      "outputs": []
    },
    {
      "cell_type": "code",
      "source": [
        "# Problem 3: Experiment of one-dimensional convolutional layer with small array\n",
        "x = np.array([1, 2, 3, 4])\n",
        "w = np.array([3, 5, 7])\n",
        "b = np.array([1])\n",
        "\n",
        "conv = SimpleConv1d(filter_size=3)\n",
        "conv.W = w.copy()\n",
        "conv.b = b.copy()\n",
        "\n",
        "# Forward\n",
        "a = conv.forward(x)\n",
        "print(\"Forward output:\", a)\n",
        "\n",
        "# Backward\n",
        "delta_a = np.array([10, 20])\n",
        "dx = conv.backward(delta_a)\n",
        "print(\"dW:\", conv.dW)\n",
        "print(\"db:\", conv.db)\n",
        "print(\"dx:\", dx)"
      ],
      "metadata": {
        "colab": {
          "base_uri": "https://localhost:8080/"
        },
        "id": "1B3QppxPpOZU",
        "outputId": "2597b1e8-04d3-4619-e727-25af4138251b"
      },
      "execution_count": 4,
      "outputs": [
        {
          "output_type": "stream",
          "name": "stdout",
          "text": [
            "Forward output: [35. 50.]\n",
            "dW: [ 50  80 110]\n",
            "db: 30\n",
            "dx: [ 30 110 170 140]\n"
          ]
        },
        {
          "output_type": "stream",
          "name": "stderr",
          "text": [
            "/tmp/ipython-input-1-798667080.py:20: DeprecationWarning: Conversion of an array with ndim > 0 to a scalar is deprecated, and will error in future. Ensure you extract a single element from your array before performing this operation. (Deprecated NumPy 1.25.)\n",
            "  self.a[i] = np.sum(x[i:i+self.filter_size] * self.W) + self.b\n"
          ]
        }
      ]
    },
    {
      "cell_type": "code",
      "source": [
        "# Problem 4: Creating a one-dimensional convolutional layer class that does not limit the number of channels\n",
        "class Conv1d:\n",
        "    def __init__(self, in_channels, out_channels, filter_size):\n",
        "        self.in_channels = in_channels\n",
        "        self.out_channels = out_channels\n",
        "        self.filter_size = filter_size\n",
        "        scale = np.sqrt(1.0 / (in_channels * filter_size))\n",
        "        self.W = np.random.randn(out_channels, in_channels, filter_size) * scale\n",
        "        self.b = np.zeros(out_channels)\n",
        "        self.learning_rate = 0.01\n",
        "\n",
        "    def forward(self, x):  # x shape: (in_channels, features)\n",
        "        self.x = x\n",
        "        in_channels, n_features = x.shape\n",
        "        out_features = n_features - self.filter_size + 1\n",
        "        self.out_features = out_features\n",
        "        self.a = np.zeros((self.out_channels, out_features))\n",
        "\n",
        "        for oc in range(self.out_channels):\n",
        "            for i in range(out_features):\n",
        "                for ic in range(self.in_channels):\n",
        "                    self.a[oc, i] += np.sum(\n",
        "                        x[ic, i:i+self.filter_size] * self.W[oc, ic]\n",
        "                    )\n",
        "                self.a[oc, i] += self.b[oc]\n",
        "        return self.a"
      ],
      "metadata": {
        "id": "x_ArekWRpco7"
      },
      "execution_count": 5,
      "outputs": []
    },
    {
      "cell_type": "code",
      "source": [
        "# Problem 5: (Advanced task) Implementing padding\n",
        "def pad1d(x, pad_width, mode='constant'):\n",
        "    return np.pad(x, pad_width, mode=mode)\n",
        "\n",
        "#Running an example to see output\n",
        "x = np.array([1, 2, 3, 4])\n",
        "print(\"Padded:\", pad1d(x, (2, 2)))"
      ],
      "metadata": {
        "colab": {
          "base_uri": "https://localhost:8080/"
        },
        "id": "PZPByR-kpmeU",
        "outputId": "fbaa39dd-62fa-49b9-e633-aee8d19c2287"
      },
      "execution_count": 8,
      "outputs": [
        {
          "output_type": "stream",
          "name": "stdout",
          "text": [
            "Padded: [0 0 1 2 3 4 0 0]\n"
          ]
        }
      ]
    },
    {
      "cell_type": "code",
      "source": [
        "# Problem 6: (Advanced task) Response to mini batch\n",
        "def forward(self, x):  # x shape: (batch_size, in_channels, features)\n",
        "    self.x = x\n",
        "    batch_size, in_channels, n_features = x.shape\n",
        "    out_features = n_features - self.filter_size + 1\n",
        "    self.a = np.zeros((batch_size, self.out_channels, out_features))\n",
        "\n",
        "    for b in range(batch_size):\n",
        "        for oc in range(self.out_channels):\n",
        "            for i in range(out_features):\n",
        "                for ic in range(self.in_channels):\n",
        "                    self.a[b, oc, i] += np.sum(\n",
        "                        x[b, ic, i:i+self.filter_size] * self.W[oc, ic]\n",
        "                    )\n",
        "                self.a[b, oc, i] += self.b[oc]\n",
        "    return self.a"
      ],
      "metadata": {
        "id": "9M2V8Bmwp1Ve"
      },
      "execution_count": 7,
      "outputs": []
    },
    {
      "cell_type": "code",
      "source": [
        "# Problem 7: (Advance assignment) Arbitrary number of strides\n",
        "def forward(self, x, stride=1):\n",
        "    self.stride = stride\n",
        "    batch_size, in_channels, n_features = x.shape\n",
        "    out_features = (n_features - self.filter_size) // stride + 1\n",
        "    self.a = np.zeros((batch_size, self.out_channels, out_features))\n",
        "\n",
        "    for b in range(batch_size):\n",
        "        for oc in range(self.out_channels):\n",
        "            for i in range(out_features):\n",
        "                start = i * stride\n",
        "                for ic in range(self.in_channels):\n",
        "                    self.a[b, oc, i] += np.sum(\n",
        "                        x[b, ic, start:start+self.filter_size] * self.W[oc, ic]\n",
        "                    )\n",
        "                self.a[b, oc, i] += self.b[oc]\n",
        "    return self.a"
      ],
      "metadata": {
        "id": "G32NFicXqKUV"
      },
      "execution_count": 10,
      "outputs": []
    },
    {
      "cell_type": "code",
      "source": [
        "# Problem 8] Learning and estimation\n",
        "import numpy as np\n",
        "from keras.datasets import mnist\n",
        "from keras.utils import to_categorical\n",
        "\n",
        "# Utilities\n",
        "def softmax(x):\n",
        "    e_x = np.exp(x - np.max(x, axis=1, keepdims=True))\n",
        "    return e_x / e_x.sum(axis=1, keepdims=True)\n",
        "\n",
        "def cross_entropy(y_pred, y_true):\n",
        "    return -np.sum(y_true * np.log(y_pred + 1e-7)) / y_true.shape[0]\n",
        "\n",
        "def softmax_cross_entropy_grad(y_pred, y_true):\n",
        "    return (y_pred - y_true) / y_true.shape[0]\n",
        "\n",
        "def relu(x):\n",
        "    return np.maximum(0, x)\n",
        "\n",
        "def relu_grad(x):\n",
        "    return (x > 0).astype(np.float32)\n",
        "\n",
        "# Conv1d Layer\n",
        "class Conv1d:\n",
        "    def __init__(self, in_channels, out_channels, filter_size):\n",
        "        scale = np.sqrt(1.0 / (in_channels * filter_size))\n",
        "        self.W = np.random.randn(out_channels, in_channels, filter_size) * scale\n",
        "        self.b = np.zeros(out_channels)\n",
        "        self.lr = 0.01\n",
        "\n",
        "    def forward(self, x, stride=1):\n",
        "        self.x = x\n",
        "        self.stride = stride\n",
        "        batch_size, in_channels, n_features = x.shape\n",
        "        self.out_features = (n_features - self.W.shape[2]) // stride + 1\n",
        "        self.a = np.zeros((batch_size, self.W.shape[0], self.out_features))\n",
        "        for b in range(batch_size):\n",
        "            for oc in range(self.W.shape[0]):\n",
        "                for i in range(self.out_features):\n",
        "                    start = i * stride\n",
        "                    for ic in range(self.W.shape[1]):\n",
        "                        self.a[b, oc, i] += np.sum(\n",
        "                            x[b, ic, start:start + self.W.shape[2]] * self.W[oc, ic]\n",
        "                        )\n",
        "                    self.a[b, oc, i] += self.b[oc]\n",
        "        return self.a\n",
        "\n",
        "    def backward(self, delta):\n",
        "        batch_size, in_channels, n_features = self.x.shape\n",
        "        _, out_channels, _ = delta.shape\n",
        "        filter_size = self.W.shape[2]\n",
        "\n",
        "        self.dW = np.zeros_like(self.W)\n",
        "        self.db = np.zeros_like(self.b)\n",
        "        dx = np.zeros_like(self.x)\n",
        "\n",
        "        for b in range(batch_size):\n",
        "            for oc in range(out_channels):\n",
        "                for i in range(self.out_features):\n",
        "                    start = i * self.stride\n",
        "                    self.db[oc] += delta[b, oc, i]\n",
        "                    for ic in range(in_channels):\n",
        "                        self.dW[oc, ic] += self.x[b, ic, start:start + filter_size] * delta[b, oc, i]\n",
        "                        dx[b, ic, start:start + filter_size] += self.W[oc, ic] * delta[b, oc, i]\n",
        "\n",
        "        self.W -= self.lr * self.dW\n",
        "        self.b -= self.lr * self.db\n",
        "        return dx\n",
        "\n",
        "# Fully Connected Layer\n",
        "class FC:\n",
        "    def __init__(self, input_dim, output_dim):\n",
        "        scale = np.sqrt(1.0 / input_dim)\n",
        "        self.W = np.random.randn(input_dim, output_dim) * scale\n",
        "        self.b = np.zeros(output_dim)\n",
        "        self.lr = 0.01\n",
        "\n",
        "    def forward(self, x):\n",
        "        self.x = x\n",
        "        return np.dot(x, self.W) + self.b\n",
        "\n",
        "    def backward(self, delta):\n",
        "        dx = np.dot(delta, self.W.T)\n",
        "        dW = np.dot(self.x.T, delta)\n",
        "        db = np.sum(delta, axis=0)\n",
        "\n",
        "        self.W -= self.lr * dW\n",
        "        self.b -= self.lr * db\n",
        "        return dx\n",
        "\n",
        "# Loading MNIST\n",
        "(x_train, y_train), (x_test, y_test) = mnist.load_data()\n",
        "\n",
        "# Specifying dataset size to speed training time\n",
        "x_train = x_train[:1000]\n",
        "y_train = y_train[:1000]\n",
        "\n",
        "# Normalizeing and reshaping to (batch, channel, features)\n",
        "x_train = x_train.reshape(-1, 1, 28*28).astype(np.float32) / 255.0\n",
        "y_train = to_categorical(y_train)\n",
        "\n",
        "# Model\n",
        "conv = Conv1d(in_channels=1, out_channels=4, filter_size=5)\n",
        "fc = FC(input_dim=4 * 780, output_dim=10)\n",
        "\n",
        "# Training Loop\n",
        "epochs = 5\n",
        "batch_size = 32\n",
        "num_batches = x_train.shape[0] // batch_size\n",
        "\n",
        "for epoch in range(epochs):\n",
        "    perm = np.random.permutation(x_train.shape[0])\n",
        "    x_train_shuffled = x_train[perm]\n",
        "    y_train_shuffled = y_train[perm]\n",
        "    epoch_loss = 0\n",
        "    correct = 0\n",
        "\n",
        "    for i in range(num_batches):\n",
        "        xb = x_train_shuffled[i*batch_size:(i+1)*batch_size]\n",
        "        yb = y_train_shuffled[i*batch_size:(i+1)*batch_size]\n",
        "\n",
        "        # Forward\n",
        "        out = conv.forward(xb)\n",
        "        out_relu = relu(out)\n",
        "        out_flat = out_relu.reshape(batch_size, -1)\n",
        "        logits = fc.forward(out_flat)\n",
        "        probs = softmax(logits)\n",
        "        loss = cross_entropy(probs, yb)\n",
        "        epoch_loss += loss\n",
        "\n",
        "        pred = np.argmax(probs, axis=1)\n",
        "        true = np.argmax(yb, axis=1)\n",
        "        correct += np.sum(pred == true)\n",
        "\n",
        "        # Backward\n",
        "        dloss = softmax_cross_entropy_grad(probs, yb)\n",
        "        d_fc = fc.backward(dloss)\n",
        "        d_relu = d_fc.reshape(out.shape) * relu_grad(out)\n",
        "        conv.backward(d_relu)\n",
        "\n",
        "    acc = correct / (num_batches * batch_size)\n",
        "    print(f\"Epoch {epoch+1}/{epochs} - Loss: {epoch_loss/num_batches:.4f} - Accuracy: {acc:.4f}\")"
      ],
      "metadata": {
        "colab": {
          "base_uri": "https://localhost:8080/"
        },
        "id": "J_Y4BZQxqa1L",
        "outputId": "0615fb90-ac5c-4c6f-e706-9898dd7fe4d5"
      },
      "execution_count": 13,
      "outputs": [
        {
          "output_type": "stream",
          "name": "stdout",
          "text": [
            "Epoch 1/5 - Loss: 2.2661 - Accuracy: 0.2077\n",
            "Epoch 2/5 - Loss: 2.1705 - Accuracy: 0.4032\n",
            "Epoch 3/5 - Loss: 2.0351 - Accuracy: 0.4899\n",
            "Epoch 4/5 - Loss: 1.8381 - Accuracy: 0.5282\n",
            "Epoch 5/5 - Loss: 1.5990 - Accuracy: 0.6351\n"
          ]
        }
      ]
    }
  ],
  "metadata": {
    "colab": {
      "provenance": [],
      "authorship_tag": "ABX9TyMHB+TY9fIgWtKfSphSd+a7",
      "include_colab_link": true
    },
    "kernelspec": {
      "display_name": "Python 3",
      "name": "python3"
    },
    "language_info": {
      "name": "python"
    }
  },
  "nbformat": 4,
  "nbformat_minor": 0
}